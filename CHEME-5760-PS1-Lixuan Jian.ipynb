{
 "cells": [
  {
   "cell_type": "markdown",
   "id": "583c7e9a-b38f-41c5-b2ed-44732c21fd1a",
   "metadata": {},
   "source": [
    "## PS1: Optimize the feature set of a rack-mounted M2 MacPro Server\n",
    "The [new MacPro with the M2 Ultra chip has been released](https://www.apple.com/shop/buy-mac/mac-pro/rack#). The MacPro M2 has several configuration options broadly organized into five categories: `{CPU, Memory, Storage, Accessories, Software}` with multiple options per category:\n",
    "* The `CPU` category has `2` options. Only one option can be selected from the `CPU` category\n",
    "* The `Memory` category has `3` options. Only one option can be selected from the `Memory` category.\n",
    "* The `Storage` category has `4` options. Only one option can be selected from the `Storage` category.\n",
    "* The `Accessories` category has `3` options. Only one option can be selected from the `Accessories` category\n",
    "* The `Software` category has `2` options. Neither or both options can be selected from the `Software` category\n",
    "\n",
    "### Problem statement\n",
    "Using a `linear` utility model and budget and feature constraints, compute the optimal set of features for a rack-mounted MacPro M2. This problem will be similar to the examples discussed in the lecture and discussion, except for one crucial element: the decision variables (our choices) will be `binary`, i.e., $x_{i}\\in{0,1}$ where a `0` indicates that we do NOT choose feature $i$. In contrast, a value of `1` indicates that we choose option $i$. \n",
    "\n",
    "Formally, an agent has a set of $n$ configuration options $X = \\left\\{x_{i}\\right\\}_{i=1}^{n}$, a `Linear` utility function, and a total of $I$ units of resource to allocate, e.g., money, and potentially other constraints. An optimal agent maximizes its utility subject to its resource and other constraints:\n",
    "\n",
    "\\begin{eqnarray}\n",
    "\\text{maximize}~\\mathcal{O} &=& \\sum_{i\\in{1,\\dotsc,n}}\\alpha_{i}x_{i} \\\\\n",
    "\\text{subject to}~\\sum_{i\\in{1,\\dotsc,n}}c_{i}x_{i} & = & I\\\\\n",
    "\\text{and}~\\mathbf{C}\\mathbf{x} & \\leq & \\mathbf{b} \\\\\n",
    "\\text{and}~x_{i}&\\in&{0,1}\\qquad{i=1,2,\\dots,n}\n",
    "\\end{eqnarray}\n",
    "\n",
    "The quantity $c_{i}\\geq{0}~\\forall{i}$ denotes the cost of option $i$, $\\alpha_{i}$ denotes user-specified coefficient in the `Linear` utility function, $x_{i}\\in{0,1}$ represents the choice of option $i$, and $\\mathbf{C}\\mathbf{x} \\leq \\mathbf{b}$ represents additional constraints governing the decision.\n",
    "\n",
    "#### List of Tasks\n",
    "* __Task 1__: Specify $\\alpha$- and $c$-vectors for the problem\n",
    "* __Task 2__: Specify the additional constraint matrix $\\mathbf{C}$\n",
    "* __Task 3__: Specify the problem object and solve the problem\n",
    "* __Task 4__: Try at least two different weighting schemes and different budget values, and explore how these design choices influence the optimal configuration (one of these __can__ be the `default` values specified below)."
   ]
  },
  {
   "cell_type": "markdown",
   "id": "a7e3433e-d93b-40ee-88a1-49fef419bd1e",
   "metadata": {},
   "source": [
    "### Setup\n",
    "The computations in this problem set rely on [VLDecisionsPackage.jl](https://github.com/varnerlab/VLDecisionsPackage.jl.git) and several external `Julia` packages. To load the required packages and any custom codes the teaching team has developed to work with these packages, we [include](https://docs.julialang.org/en/v1/manual/code-loading/) the `Include.jl` file):"
   ]
  },
  {
   "cell_type": "code",
   "execution_count": 1,
   "id": "c0782b15-84b4-4b38-be1f-f551bc67731d",
   "metadata": {
    "tags": []
   },
   "outputs": [
    {
     "name": "stderr",
     "output_type": "stream",
     "text": [
      "\u001b[32m\u001b[1m  Activating\u001b[22m\u001b[39m project at `~/Documents/GitHub/CHEME-5760-Labs-F23`\n",
      "\u001b[32m\u001b[1mPrecompiling\u001b[22m\u001b[39m project...\n",
      "\u001b[32m  ✓ \u001b[39m\u001b[90mSnoopPrecompile\u001b[39m\n",
      "\u001b[32m  ✓ \u001b[39m\u001b[90mGraphite2_jll\u001b[39m\n",
      "\u001b[32m  ✓ \u001b[39m\u001b[90mOpenSSL_jll\u001b[39m\n",
      "\u001b[32m  ✓ \u001b[39m\u001b[90mLLVMOpenMP_jll\u001b[39m\n",
      "\u001b[32m  ✓ \u001b[39m\u001b[90mRmath_jll\u001b[39m\n",
      "\u001b[32m  ✓ \u001b[39m\u001b[90mBzip2_jll\u001b[39m\n",
      "\u001b[32m  ✓ \u001b[39m\u001b[90mRecipesBase\u001b[39m\n",
      "\u001b[32m  ✓ \u001b[39m\u001b[90mlibpng_jll\u001b[39m\n",
      "\u001b[32m  ✓ \u001b[39m\u001b[90mlibfdk_aac_jll\u001b[39m\n",
      "\u001b[32m  ✓ \u001b[39m\u001b[90mGLPK_jll\u001b[39m\n",
      "\u001b[32m  ✓ \u001b[39m\u001b[90mStringManipulation\u001b[39m\n",
      "\u001b[32m  ✓ \u001b[39m\u001b[90mLAME_jll\u001b[39m\n",
      "\u001b[32m  ✓ \u001b[39m\u001b[90mLERC_jll\u001b[39m\n",
      "\u001b[32m  ✓ \u001b[39m\u001b[90mfzf_jll\u001b[39m\n",
      "\u001b[32m  ✓ \u001b[39m\u001b[90mJpegTurbo_jll\u001b[39m\n",
      "\u001b[32m  ✓ \u001b[39m\u001b[90mXZ_jll\u001b[39m\n",
      "\u001b[32m  ✓ \u001b[39m\u001b[90mOgg_jll\u001b[39m\n",
      "\u001b[32m  ✓ \u001b[39m\u001b[90mx265_jll\u001b[39m\n",
      "\u001b[32m  ✓ \u001b[39m\u001b[90mlibaom_jll\u001b[39m\n",
      "\u001b[32m  ✓ \u001b[39m\u001b[90mx264_jll\u001b[39m\n",
      "\u001b[32m  ✓ \u001b[39m\u001b[90mArpack_jll\u001b[39m\n",
      "\u001b[32m  ✓ \u001b[39m\u001b[90mZstd_jll\u001b[39m\n",
      "\u001b[32m  ✓ \u001b[39m\u001b[90mExpat_jll\u001b[39m\n",
      "\u001b[32m  ✓ \u001b[39m\u001b[90mLZO_jll\u001b[39m\n",
      "\u001b[32m  ✓ \u001b[39m\u001b[90mOpus_jll\u001b[39m\n",
      "\u001b[32m  ✓ \u001b[39m\u001b[90mLibiconv_jll\u001b[39m\n",
      "\u001b[32m  ✓ \u001b[39m\u001b[90mLibffi_jll\u001b[39m\n",
      "\u001b[32m  ✓ \u001b[39m\u001b[90mFFTW_jll\u001b[39m\n",
      "\u001b[32m  ✓ \u001b[39m\u001b[90mOpenSpecFun_jll\u001b[39m\n",
      "\u001b[32m  ✓ \u001b[39m\u001b[90mFriBidi_jll\u001b[39m\n",
      "\u001b[32m  ✓ \u001b[39m\u001b[90mLibuuid_jll\u001b[39m\n",
      "\u001b[32m  ✓ \u001b[39m\u001b[90mlibinput_jll\u001b[39m\n",
      "\u001b[32m  ✓ \u001b[39m\u001b[90mInlineStrings\u001b[39m\n",
      "\u001b[32m  ✓ \u001b[39m\u001b[90mPixman_jll\u001b[39m\n",
      "\u001b[32m  ✓ \u001b[39m\u001b[90mBenchmarkTools\u001b[39m\n",
      "\u001b[32m  ✓ \u001b[39m\u001b[90mRmath\u001b[39m\n",
      "\u001b[32m  ✓ \u001b[39m\u001b[90mCodecBzip2\u001b[39m\n",
      "\u001b[32m  ✓ \u001b[39m\u001b[90mFreeType2_jll\u001b[39m\n",
      "\u001b[32m  ✓ \u001b[39m\u001b[90mlibvorbis_jll\u001b[39m\n",
      "\u001b[32m  ✓ \u001b[39m\u001b[90mJLFzf\u001b[39m\n",
      "\u001b[32m  ✓ \u001b[39m\u001b[90mArpack\u001b[39m\n",
      "\u001b[32m  ✓ \u001b[39m\u001b[90mOpenSSL\u001b[39m\n",
      "\u001b[32m  ✓ \u001b[39m\u001b[90mXML2_jll\u001b[39m\n",
      "\u001b[32m  ✓ \u001b[39m\u001b[90mLibtiff_jll\u001b[39m\n",
      "\u001b[32m  ✓ \u001b[39m\u001b[90mWeakRefStrings\u001b[39m\n",
      "\u001b[32m  ✓ \u001b[39m\u001b[90mFontconfig_jll\u001b[39m\n",
      "\u001b[32m  ✓ \u001b[39m\u001b[90mMultivariateStats\u001b[39m\n",
      "\u001b[32m  ✓ \u001b[39m\u001b[90mSpecialFunctions\u001b[39m\n",
      "\u001b[32m  ✓ \u001b[39m\u001b[90mGettext_jll\u001b[39m\n",
      "\u001b[32m  ✓ \u001b[39m\u001b[90mXSLT_jll\u001b[39m\n",
      "\u001b[32m  ✓ \u001b[39m\u001b[90mWayland_jll\u001b[39m\n",
      "\u001b[32m  ✓ \u001b[39m\u001b[90mHTTP\u001b[39m\n",
      "\u001b[32m  ✓ \u001b[39m\u001b[90mSpecialFunctions → SpecialFunctionsChainRulesCoreExt\u001b[39m\n",
      "\u001b[32m  ✓ \u001b[39m\u001b[90mDiffRules\u001b[39m\n",
      "\u001b[32m  ✓ \u001b[39m\u001b[90mDualNumbers\u001b[39m\n",
      "\u001b[32m  ✓ \u001b[39m\u001b[90mColorVectorSpace → SpecialFunctionsExt\u001b[39m\n",
      "\u001b[32m  ✓ \u001b[39m\u001b[90mXorg_libxcb_jll\u001b[39m\n",
      "\u001b[32m  ✓ \u001b[39m\u001b[90mGlib_jll\u001b[39m\n",
      "\u001b[32m  ✓ \u001b[39m\u001b[90mHypergeometricFunctions\u001b[39m\n",
      "\u001b[32m  ✓ \u001b[39mPrettyTables\n",
      "\u001b[32m  ✓ \u001b[39mForwardDiff\n",
      "\u001b[32m  ✓ \u001b[39m\u001b[90mFFTW\u001b[39m\n",
      "\u001b[32m  ✓ \u001b[39m\u001b[90mXorg_xcb_util_jll\u001b[39m\n",
      "\u001b[32m  ✓ \u001b[39m\u001b[90mXorg_libX11_jll\u001b[39m\n",
      "\u001b[32m  ✓ \u001b[39m\u001b[90mForwardDiff → ForwardDiffStaticArraysExt\u001b[39m\n",
      "\u001b[32m  ✓ \u001b[39m\u001b[90mStatsFuns\u001b[39m\n",
      "\u001b[32m  ✓ \u001b[39m\u001b[90mXorg_xcb_util_image_jll\u001b[39m\n",
      "\u001b[32m  ✓ \u001b[39m\u001b[90mXorg_xcb_util_keysyms_jll\u001b[39m\n",
      "\u001b[32m  ✓ \u001b[39m\u001b[90mXorg_xcb_util_renderutil_jll\u001b[39m\n",
      "\u001b[32m  ✓ \u001b[39m\u001b[90mXorg_xcb_util_wm_jll\u001b[39m\n",
      "\u001b[32m  ✓ \u001b[39m\u001b[90mXorg_libXrender_jll\u001b[39m\n",
      "\u001b[32m  ✓ \u001b[39m\u001b[90mXorg_libXext_jll\u001b[39m\n",
      "\u001b[32m  ✓ \u001b[39m\u001b[90mColorSchemes\u001b[39m\n",
      "\u001b[32m  ✓ \u001b[39m\u001b[90mXorg_libXfixes_jll\u001b[39m\n",
      "\u001b[32m  ✓ \u001b[39m\u001b[90mXorg_libxkbfile_jll\u001b[39m\n",
      "\u001b[32m  ✓ \u001b[39m\u001b[90mNLSolversBase\u001b[39m\n",
      "\u001b[32m  ✓ \u001b[39m\u001b[90mStatsFuns → StatsFunsChainRulesCoreExt\u001b[39m\n",
      "\u001b[32m  ✓ \u001b[39m\u001b[90mXorg_xcb_util_cursor_jll\u001b[39m\n",
      "\u001b[32m  ✓ \u001b[39m\u001b[90mLibglvnd_jll\u001b[39m\n",
      "\u001b[32m  ✓ \u001b[39m\u001b[90mXorg_libXinerama_jll\u001b[39m\n",
      "\u001b[32m  ✓ \u001b[39m\u001b[90mXorg_libXrandr_jll\u001b[39m\n",
      "\u001b[32m  ✓ \u001b[39m\u001b[90mCairo_jll\u001b[39m\n",
      "\u001b[32m  ✓ \u001b[39mCSV\n",
      "\u001b[32m  ✓ \u001b[39m\u001b[90mXorg_libXcursor_jll\u001b[39m\n",
      "\u001b[32m  ✓ \u001b[39m\u001b[90mXorg_libXi_jll\u001b[39m\n",
      "\u001b[32m  ✓ \u001b[39mDistributions\n",
      "\u001b[32m  ✓ \u001b[39m\u001b[90mXorg_xkbcomp_jll\u001b[39m\n",
      "\u001b[32m  ✓ \u001b[39m\u001b[90mHarfBuzz_jll\u001b[39m\n",
      "\u001b[32m  ✓ \u001b[39m\u001b[90mGLFW_jll\u001b[39m\n",
      "\u001b[32m  ✓ \u001b[39m\u001b[90mLineSearches\u001b[39m\n",
      "\u001b[32m  ✓ \u001b[39m\u001b[90mXorg_xkeyboard_config_jll\u001b[39m\n",
      "\u001b[32m  ✓ \u001b[39m\u001b[90mDistributions → DistributionsChainRulesCoreExt\u001b[39m\n",
      "\u001b[32m  ✓ \u001b[39m\u001b[90mlibass_jll\u001b[39m\n",
      "\u001b[32m  ✓ \u001b[39m\u001b[90mxkbcommon_jll\u001b[39m\n",
      "\u001b[32m  ✓ \u001b[39m\u001b[90mKernelDensity\u001b[39m\n",
      "\u001b[32m  ✓ \u001b[39mOptim\n",
      "\u001b[32m  ✓ \u001b[39m\u001b[90mVulkan_Loader_jll\u001b[39m\n",
      "\u001b[32m  ✓ \u001b[39m\u001b[90mFFMPEG_jll\u001b[39m\n",
      "\u001b[32m  ✓ \u001b[39m\u001b[90mPlotUtils\u001b[39m\n",
      "\u001b[32m  ✓ \u001b[39m\u001b[90mFFMPEG\u001b[39m\n",
      "\u001b[32m  ✓ \u001b[39m\u001b[90mQt6Base_jll\u001b[39m\n",
      "\u001b[32m  ✓ \u001b[39m\u001b[90mGR_jll\u001b[39m\n",
      "\u001b[32m  ✓ \u001b[39m\u001b[90mPlotThemes\u001b[39m\n",
      "\u001b[32m  ✓ \u001b[39m\u001b[90mRecipesPipeline\u001b[39m\n",
      "\u001b[32m  ✓ \u001b[39m\u001b[90mGR\u001b[39m\n",
      "\u001b[32m  ✓ \u001b[39mDataFrames\n",
      "\u001b[32m  ✓ \u001b[39m\u001b[90mLatexify → DataFramesExt\u001b[39m\n",
      "\u001b[32m  ✓ \u001b[39m\u001b[90mMathOptInterface\u001b[39m\n",
      "\u001b[32m  ✓ \u001b[39m\u001b[90mMadNLP\u001b[39m\n",
      "\u001b[32m  ✓ \u001b[39m\u001b[90mGLPK\u001b[39m\n",
      "\u001b[32m  ✓ \u001b[39mPlots\n",
      "\u001b[32m  ✓ \u001b[39m\u001b[90mPlots → UnitfulExt\u001b[39m\n",
      "\u001b[32m  ✓ \u001b[39m\u001b[90mJuMP\u001b[39m\n",
      "\u001b[32m  ✓ \u001b[39mStatsPlots\n",
      "\u001b[32m  ✓ \u001b[39mVLDecisionsPackage\n",
      "  115 dependencies successfully precompiled in 89 seconds. 138 already precompiled.\n",
      "\u001b[32m\u001b[1m    Updating\u001b[22m\u001b[39m registry at `~/.julia/registries/General.toml`\n",
      "\u001b[32m\u001b[1m    Updating\u001b[22m\u001b[39m git-repo `https://github.com/varnerlab/VLDecisionsPackage.jl.git`\n",
      "\u001b[32m\u001b[1m  No Changes\u001b[22m\u001b[39m to `~/Documents/GitHub/CHEME-5760-Labs-F23/Project.toml`\n",
      "\u001b[32m\u001b[1m  No Changes\u001b[22m\u001b[39m to `~/Documents/GitHub/CHEME-5760-Labs-F23/Manifest.toml`\n",
      "\u001b[36m\u001b[1m[ \u001b[22m\u001b[39m\u001b[36m\u001b[1mInfo: \u001b[22m\u001b[39mPrecompiling IJuliaExt [2f4121a4-3b3a-5ce6-9c5e-1f2673ce168a]\n"
     ]
    }
   ],
   "source": [
    "include(\"Include.jl\");"
   ]
  },
  {
   "cell_type": "markdown",
   "id": "c49e194e-2d0f-4141-9a2c-a1f0db603a89",
   "metadata": {},
   "source": [
    "#### Specify constants and other static stuff"
   ]
  },
  {
   "cell_type": "code",
   "execution_count": 2,
   "id": "6e9bfd9d-5794-4fa7-8022-f627623704ad",
   "metadata": {
    "tags": []
   },
   "outputs": [],
   "source": [
    "number_of_choices = 14;\n",
    "bounds_array = Array{Float64,2}(undef, number_of_choices,2)\n",
    "for i ∈ 1:number_of_choices\n",
    "    bounds_array[i,1] = 0.0\n",
    "    bounds_array[i,2] = 1.0;\n",
    "end"
   ]
  },
  {
   "cell_type": "markdown",
   "id": "59a60542-a0f6-454c-b829-957ca16ed2bc",
   "metadata": {},
   "source": [
    "## Task 1: Specify the configuration array\n",
    "The `configuration_array` is a `14` $\\times$ `2` array holding perception and cost information about the problem. Each row of the `configuration_array` contains data for a particular MacPro configuration option. The first column contains the coefficients of the `Linear` utility function, i.e., the elements of the $\\alpha$-vector, while the unit price of the features, i.e., elements of the $c$-vector, are in the second column.  \n",
    "\n",
    "#### Feature prices\n",
    "The prices of each configuration option have been estimated from the [Apple MacPro server website](https://www.apple.com/shop/buy-mac/mac-pro/rack#).\n",
    "\n",
    "#### Linear utility weighting scheme\n",
    "In `PS1`, we'll use a category-based weighting scheme. In each of the five categories, allocate `1` unit of weight:\n",
    "\n",
    "* In each category, the coefficients in the `Linear` utility function for options in that category must sum to one.\n",
    "\n",
    "For example, if you have equal feelings about three options in a category, then `0.33, 0.33, 0.33` would be a typical scheme. On the other hand, if you are excited about feature `1` over the other two in the category, then `0.8,0.1,0.1` could be an appropriate weight scheme."
   ]
  },
  {
   "cell_type": "code",
   "execution_count": 3,
   "id": "f1f4c2f7-1ba7-4be9-9bbf-87ace097a4ba",
   "metadata": {},
   "outputs": [],
   "source": [
    "configuration_array = [\n",
    "\n",
    "    # CPU options\n",
    "    0.5 2640.0    ; # 1 CPU 1\n",
    "    0.5 3649.0    ; # 2 CPU 2\n",
    "\n",
    "    # Memory options\n",
    "    0.333 3840.0  ; # 3 Memory 1\n",
    "    0.333 4640.0  ; # 4 Memory 2\n",
    "    0.333 3600.0  ; # 5 Memory 3\n",
    "\n",
    "    # Storage options -\n",
    "    0.25 1440.0   ; # 6 Storage 1\n",
    "    0.25 1840.0   ; # 7 Storage 2\n",
    "    0.25 2440.0   ; # 8 Storage 3\n",
    "    0.25 3640.0   ; # 9 Storage 4\n",
    "\n",
    "    # Accessory options\n",
    "    0.333 79.0    ; # 10 Accessory 1\n",
    "    0.333 129.0   ; # 11 Accessory 2\n",
    "    0.333 149.0   ; # 12 Accessory 3\n",
    "    \n",
    "    # Software options\n",
    "    0.5 299.0     ; # 13 Software 1\n",
    "    0.5 149.0     ; # 14 Software 2\n",
    "];"
   ]
  },
  {
   "cell_type": "markdown",
   "id": "d95754dc-5bd3-4adb-a902-46aacd490142",
   "metadata": {
    "tags": []
   },
   "source": [
    "### Task 2: Specify the feature constraint matrix `C`\n",
    "In each category, only a finite number of options can be selected simultaneously, typically only a single option, with the exception being the `Software` category, which is unconstrained (can have from zero up to two items selected). Because the decision variables are binary, we can implement this requirement with an additional set of constraints of the form:\n",
    "\n",
    "$$\n",
    "\\begin{equation}\n",
    "\\mathbf{C}\\mathbf{x} = \\mathbf{1}\n",
    "\\end{equation}\n",
    "$$\n",
    "\n",
    "where $\\mathbf{C}$ denotes the constraint matrix, $\\mathbf{x}$ denotes the choice vector and $\\mathbf{1}$ denotes a vector of `1`'s. \n",
    "Specify the $\\mathbf{C}$ matrix for this problem:"
   ]
  },
  {
   "cell_type": "code",
   "execution_count": 13,
   "id": "d1d0a2b8-16e3-4a41-934a-f3dec5be01f0",
   "metadata": {
    "tags": []
   },
   "outputs": [],
   "source": [
    "C = zeros(4,14); \n",
    "\n",
    "# understanding qestion: why is this a 4 x 14 array?\n",
    "# because there are 4 categories: CPU, Memory, Storage, Accessory (excluding Software because it's unconstrained)\n",
    "# for each of these four constrained groups (rows), we need 14 columns to specify which of those 14 options (features) belong to its category\n",
    "\n",
    "C[1,1:2] .= 1;\n",
    "C[2,3:5] .= 1;\n",
    "C[3,6:9] .= 1;\n",
    "C[4,10:12] .= 1;"
   ]
  },
  {
   "cell_type": "markdown",
   "id": "7ca8f780-d5a9-4bf6-aeda-2e5a6c09aa53",
   "metadata": {},
   "source": [
    "__Note__: Julia's Array syntax is similar to Matlab/Octave, except with square brackets. See [the Array documentation](https://docs.julialang.org/en/v1/base/arrays/) or various other [Julia tutorials on the web](https://www.tutorialspoint.com/julia/julia_arrays.htm) about working with the Array data structure."
   ]
  },
  {
   "cell_type": "markdown",
   "id": "bf9738eb-627e-4c69-ad4c-9aabc7fda7fe",
   "metadata": {},
   "source": [
    "### Task 3: Specify the problem object, and solve for the optimal configuration\n",
    "Finally, build a `MySimpleBinaryVariableLinearChoiceProblem` model using the `build(...)` method, set this instance to the `problem` variable, and then pass the `problem` object to the `solve(...)` method. The `solve(...)` method will solve the `ILP` problem using the [GLPK.jl](https://github.com/jump-dev/GLPK.jl) interface to the [GLPK linear programming solver](https://www.gnu.org/software/glpk/)."
   ]
  },
  {
   "cell_type": "code",
   "execution_count": 18,
   "id": "38a1b19e-8610-4e41-8eb3-4bf89f85d694",
   "metadata": {
    "tags": []
   },
   "outputs": [
    {
     "data": {
      "text/plain": [
       "Dict{String, Any} with 3 entries:\n",
       "  \"argmax\"          => [1.0, 0.0, 1.0, 0.0, 0.0, 1.0, 0.0, 0.0, 0.0, 1.0, 0.0, …\n",
       "  \"budget\"          => 8447.0\n",
       "  \"objective_value\" => 2.416"
      ]
     },
     "execution_count": 18,
     "metadata": {},
     "output_type": "execute_result"
    }
   ],
   "source": [
    "α = configuration_array[:,1];\n",
    "c = configuration_array[:,2];\n",
    "I = 10000.0; # default budget is 10K USD\n",
    "bounds = [\n",
    "        0  1 ; # 1 CPU 1\n",
    "        0  1 ; # 2 CPU 2\n",
    "        \n",
    "        0  1 ; # 3 Memory 1\n",
    "        0  1 ; # 4 Memory 2\n",
    "        0  1 ; # 5 Memory 3\n",
    "\n",
    "        0  1 ; # 6 Storage 1\n",
    "        0  1 ; # 7 Storage 2\n",
    "        0  1 ; # 8 Storage 3\n",
    "        0  1 ; # 9 Storage 4\n",
    "\n",
    "        0  1 ; # 10 Accessory 1 \n",
    "        0  1 ; # 11 Accessory 2\n",
    "        0  1 ; # 12 Accessory 3\n",
    "        \n",
    "        1  1 ; # 13 Software 1\n",
    "        1  1 ; # 14 Software 2\n",
    "    ]; #choose/not choose a feature\n",
    "\n",
    "# build the problem object -\n",
    "problem = build(MySimpleBinaryVariableLinearChoiceProblem, (\n",
    "    \n",
    "    initial = zeros(14), \n",
    "    α = α, # coefficients\n",
    "    c = c, # costs\n",
    "    I = I, # default budget is 10K USD\n",
    "    C = C, # constraint matrix\n",
    "    # \n",
    "    bounds = bounds \n",
    "));\n",
    "\n",
    "solution = solve(problem);\n",
    "solution"
   ]
  },
  {
   "cell_type": "markdown",
   "id": "23160512-ce24-43c8-adc3-7a5d2c247efb",
   "metadata": {},
   "source": [
    "#### Check: Are the choice constraints enforced?\n",
    "We can only select a fixed number of items from each category. Does your solution reflect this restriction?"
   ]
  },
  {
   "cell_type": "code",
   "execution_count": 21,
   "id": "0dfb7169-546c-4728-afb0-28ebb44d5311",
   "metadata": {
    "tags": []
   },
   "outputs": [
    {
     "name": "stdout",
     "output_type": "stream",
     "text": [
      "The solution respects the choice constraints.\n"
     ]
    }
   ],
   "source": [
    "# the expected constraint vector\n",
    "expected_vector = [1, 1, 1, 1]\n",
    "\n",
    "x = solution[\"argmax\"]\n",
    "result_vector = C * x\n",
    "is_correct = all(result_vector .== expected_vector)\n",
    "if is_correct\n",
    "    println(\"The solution respects the choice constraints.\")\n",
    "else\n",
    "    println(\"The solution violates the choice constraints.\")\n",
    "end"
   ]
  },
  {
   "cell_type": "markdown",
   "id": "70eb10c8-3c05-4de9-954a-775fc981fe2c",
   "metadata": {},
   "source": [
    "### Task 4: How does changing the $\\alpha$-vector (or the budget $I$) influence the configuration choice?"
   ]
  },
  {
   "cell_type": "code",
   "execution_count": 28,
   "id": "15500b03-7a82-4537-ac84-48fac9232f8a",
   "metadata": {
    "tags": []
   },
   "outputs": [
    {
     "data": {
      "text/plain": [
       "Dict{String, Any} with 3 entries:\n",
       "  \"argmax\"          => [1.0, 0.0, 1.0, 0.0, 0.0, 1.0, 0.0, 0.0, 0.0, 1.0, 0.0, …\n",
       "  \"budget\"          => 8447.0\n",
       "  \"objective_value\" => 2.416"
      ]
     },
     "execution_count": 28,
     "metadata": {},
     "output_type": "execute_result"
    }
   ],
   "source": [
    "# when budget increases, the solution remains the same (cause the budget was not used up in the initial solution)\n",
    "I = 20000.0;\n",
    "\n",
    "problem = build(MySimpleBinaryVariableLinearChoiceProblem, (\n",
    "    \n",
    "    initial = zeros(14), \n",
    "    α = α, # coefficients\n",
    "    c = c, # costs\n",
    "    I = I, # default budget is 20K USD\n",
    "    C = C, # constraint matrix\n",
    "    # \n",
    "    bounds = bounds \n",
    "));\n",
    "\n",
    "solution = solve(problem);\n",
    "solution\n",
    "#solution[\"argmax\"]"
   ]
  },
  {
   "cell_type": "code",
   "execution_count": 26,
   "id": "8991eb8a-fbe9-4d1b-b459-73995853bdb1",
   "metadata": {},
   "outputs": [
    {
     "data": {
      "text/plain": [
       "Dict{String, Any} with 3 entries:\n",
       "  \"argmax\"          => [1.0, 0.0, 0.0, 1.0, 0.0, 0.0, 0.0, 0.0, 0.0, 1.0, 0.0, …\n",
       "  \"budget\"          => 7807.0\n",
       "  \"objective_value\" => 2.166"
      ]
     },
     "execution_count": 26,
     "metadata": {},
     "output_type": "execute_result"
    }
   ],
   "source": [
    "# when there's a decrease in budget and it's now below 8447.0 (which is the original amount of money spent)\n",
    "I = 8000.0;\n",
    "\n",
    "problem = build(MySimpleBinaryVariableLinearChoiceProblem, (\n",
    "    \n",
    "    initial = zeros(14), \n",
    "    α = α, # coefficients\n",
    "    c = c, # costs\n",
    "    I = I, # default budget is 8K USD\n",
    "    C = C, # constraint matrix\n",
    "    # \n",
    "    bounds = bounds \n",
    "));\n",
    "\n",
    "solution = solve(problem);\n",
    "solution"
   ]
  },
  {
   "cell_type": "code",
   "execution_count": 27,
   "id": "cd45287f-23ee-4c39-9677-1d29f6fdecaf",
   "metadata": {},
   "outputs": [
    {
     "data": {
      "text/plain": [
       "14-element Vector{Float64}:\n",
       " 1.0\n",
       " 0.0\n",
       " 0.0\n",
       " 1.0\n",
       " 0.0\n",
       " 0.0\n",
       " 0.0\n",
       " 0.0\n",
       " 0.0\n",
       " 1.0\n",
       " 0.0\n",
       " 0.0\n",
       " 1.0\n",
       " 1.0"
      ]
     },
     "execution_count": 27,
     "metadata": {},
     "output_type": "execute_result"
    }
   ],
   "source": [
    "# the consumer will choose Memory 1 instead of Memory 2 in this case, and opt out the Storage \n",
    "solution[\"argmax\"]"
   ]
  },
  {
   "cell_type": "code",
   "execution_count": 32,
   "id": "d2ac3816-1bdf-4ce9-8dc1-f3e0224ffefc",
   "metadata": {},
   "outputs": [
    {
     "data": {
      "text/plain": [
       "Dict{String, Any} with 3 entries:\n",
       "  \"argmax\"          => [0.0, 1.0, 0.0, 1.0, 0.0, 0.0, 0.0, 0.0, 0.0, 0.0, 0.0, …\n",
       "  \"budget\"          => 8886.0\n",
       "  \"objective_value\" => 3.5"
      ]
     },
     "execution_count": 32,
     "metadata": {},
     "output_type": "execute_result"
    }
   ],
   "source": [
    "# preference change\n",
    "# assume stronger preferences towards the more/most expensive features\n",
    "configuration_array = [\n",
    "\n",
    "    # CPU options\n",
    "    0.1 2640.0    ; # 1 CPU 1\n",
    "    0.9 3649.0    ; # 2 CPU 2\n",
    "\n",
    "    # Memory options\n",
    "    0.1 3840.0  ; # 3 Memory 1\n",
    "    0.8 4640.0  ; # 4 Memory 2\n",
    "    0.1 3600.0  ; # 5 Memory 3\n",
    "\n",
    "    # Storage options -\n",
    "    0.1 1440.0   ; # 6 Storage 1\n",
    "    0.1 1840.0   ; # 7 Storage 2\n",
    "    0.1 2440.0   ; # 8 Storage 3\n",
    "    0.7 3640.0   ; # 9 Storage 4\n",
    "\n",
    "    # Accessory options\n",
    "    0.1 79.0    ; # 10 Accessory 1\n",
    "    0.1 129.0   ; # 11 Accessory 2\n",
    "    0.8 149.0   ; # 12 Accessory 3\n",
    "    \n",
    "    # Software options\n",
    "    0.5 299.0     ; # 13 Software 1\n",
    "    0.5 149.0     ; # 14 Software 2\n",
    "];\n",
    "\n",
    "α = configuration_array[:,1];\n",
    "I = 10000.0;\n",
    "problem = build(MySimpleBinaryVariableLinearChoiceProblem, (\n",
    "    \n",
    "    initial = zeros(14), \n",
    "    α = α, # coefficients\n",
    "    c = c, # costs\n",
    "    I = I, # default budget is 10K USD\n",
    "    C = C, # constraint matrix\n",
    "    # \n",
    "    bounds = bounds \n",
    "));\n",
    "\n",
    "solution = solve(problem);\n",
    "solution\n",
    "\n",
    "# the consumer will end up spend more money on the MacBook Pro"
   ]
  },
  {
   "cell_type": "markdown",
   "id": "ef8ea7b4-d434-47e7-be36-111f8a58b343",
   "metadata": {},
   "source": []
  }
 ],
 "metadata": {
  "kernelspec": {
   "display_name": "Julia 1.9.3",
   "language": "julia",
   "name": "julia-1.9"
  },
  "language_info": {
   "file_extension": ".jl",
   "mimetype": "application/julia",
   "name": "julia",
   "version": "1.9.3"
  }
 },
 "nbformat": 4,
 "nbformat_minor": 5
}
